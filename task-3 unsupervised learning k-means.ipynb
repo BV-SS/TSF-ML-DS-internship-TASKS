{
 "cells": [
  {
   "cell_type": "markdown",
   "metadata": {},
   "source": [
    "# Task #3 of TSF-GRIP\n",
    "### To explore Unsupervised machine learing\n",
    "#### used unsupervised learning algorithm - K-means clustring for cluster formation"
   ]
  },
  {
   "cell_type": "code",
   "execution_count": 49,
   "metadata": {},
   "outputs": [],
   "source": [
    "from sklearn import datasets\n",
    "import numpy as np\n",
    "import pandas as pd\n",
    "import matplotlib.pyplot as plt\n",
    "import seaborn as sns\n",
    "from sklearn.preprocessing import MinMaxScaler"
   ]
  },
  {
   "cell_type": "code",
   "execution_count": 10,
   "metadata": {},
   "outputs": [],
   "source": [
    "url = \"https://raw.githubusercontent.com/jbrownlee/Datasets/master/iris.csv\"\n",
    "names = ['sepal-length', 'sepal-width', 'petal-length', 'petal-width', 'class']\n",
    "data = pd.read_csv(url, names=names)"
   ]
  },
  {
   "cell_type": "code",
   "execution_count": 11,
   "metadata": {},
   "outputs": [
    {
     "data": {
      "text/html": [
       "<div>\n",
       "<style scoped>\n",
       "    .dataframe tbody tr th:only-of-type {\n",
       "        vertical-align: middle;\n",
       "    }\n",
       "\n",
       "    .dataframe tbody tr th {\n",
       "        vertical-align: top;\n",
       "    }\n",
       "\n",
       "    .dataframe thead th {\n",
       "        text-align: right;\n",
       "    }\n",
       "</style>\n",
       "<table border=\"1\" class=\"dataframe\">\n",
       "  <thead>\n",
       "    <tr style=\"text-align: right;\">\n",
       "      <th></th>\n",
       "      <th>sepal-length</th>\n",
       "      <th>sepal-width</th>\n",
       "      <th>petal-length</th>\n",
       "      <th>petal-width</th>\n",
       "      <th>class</th>\n",
       "    </tr>\n",
       "  </thead>\n",
       "  <tbody>\n",
       "    <tr>\n",
       "      <th>0</th>\n",
       "      <td>5.1</td>\n",
       "      <td>3.5</td>\n",
       "      <td>1.4</td>\n",
       "      <td>0.2</td>\n",
       "      <td>Iris-setosa</td>\n",
       "    </tr>\n",
       "    <tr>\n",
       "      <th>1</th>\n",
       "      <td>4.9</td>\n",
       "      <td>3.0</td>\n",
       "      <td>1.4</td>\n",
       "      <td>0.2</td>\n",
       "      <td>Iris-setosa</td>\n",
       "    </tr>\n",
       "    <tr>\n",
       "      <th>2</th>\n",
       "      <td>4.7</td>\n",
       "      <td>3.2</td>\n",
       "      <td>1.3</td>\n",
       "      <td>0.2</td>\n",
       "      <td>Iris-setosa</td>\n",
       "    </tr>\n",
       "    <tr>\n",
       "      <th>3</th>\n",
       "      <td>4.6</td>\n",
       "      <td>3.1</td>\n",
       "      <td>1.5</td>\n",
       "      <td>0.2</td>\n",
       "      <td>Iris-setosa</td>\n",
       "    </tr>\n",
       "    <tr>\n",
       "      <th>4</th>\n",
       "      <td>5.0</td>\n",
       "      <td>3.6</td>\n",
       "      <td>1.4</td>\n",
       "      <td>0.2</td>\n",
       "      <td>Iris-setosa</td>\n",
       "    </tr>\n",
       "  </tbody>\n",
       "</table>\n",
       "</div>"
      ],
      "text/plain": [
       "   sepal-length  sepal-width  petal-length  petal-width        class\n",
       "0           5.1          3.5           1.4          0.2  Iris-setosa\n",
       "1           4.9          3.0           1.4          0.2  Iris-setosa\n",
       "2           4.7          3.2           1.3          0.2  Iris-setosa\n",
       "3           4.6          3.1           1.5          0.2  Iris-setosa\n",
       "4           5.0          3.6           1.4          0.2  Iris-setosa"
      ]
     },
     "execution_count": 11,
     "metadata": {},
     "output_type": "execute_result"
    }
   ],
   "source": [
    "data.head()"
   ]
  },
  {
   "cell_type": "code",
   "execution_count": 12,
   "metadata": {},
   "outputs": [
    {
     "data": {
      "text/html": [
       "<div>\n",
       "<style scoped>\n",
       "    .dataframe tbody tr th:only-of-type {\n",
       "        vertical-align: middle;\n",
       "    }\n",
       "\n",
       "    .dataframe tbody tr th {\n",
       "        vertical-align: top;\n",
       "    }\n",
       "\n",
       "    .dataframe thead th {\n",
       "        text-align: right;\n",
       "    }\n",
       "</style>\n",
       "<table border=\"1\" class=\"dataframe\">\n",
       "  <thead>\n",
       "    <tr style=\"text-align: right;\">\n",
       "      <th></th>\n",
       "      <th>sepal-length</th>\n",
       "      <th>sepal-width</th>\n",
       "      <th>petal-length</th>\n",
       "      <th>petal-width</th>\n",
       "    </tr>\n",
       "  </thead>\n",
       "  <tbody>\n",
       "    <tr>\n",
       "      <th>count</th>\n",
       "      <td>150.000000</td>\n",
       "      <td>150.000000</td>\n",
       "      <td>150.000000</td>\n",
       "      <td>150.000000</td>\n",
       "    </tr>\n",
       "    <tr>\n",
       "      <th>mean</th>\n",
       "      <td>5.843333</td>\n",
       "      <td>3.054000</td>\n",
       "      <td>3.758667</td>\n",
       "      <td>1.198667</td>\n",
       "    </tr>\n",
       "    <tr>\n",
       "      <th>std</th>\n",
       "      <td>0.828066</td>\n",
       "      <td>0.433594</td>\n",
       "      <td>1.764420</td>\n",
       "      <td>0.763161</td>\n",
       "    </tr>\n",
       "    <tr>\n",
       "      <th>min</th>\n",
       "      <td>4.300000</td>\n",
       "      <td>2.000000</td>\n",
       "      <td>1.000000</td>\n",
       "      <td>0.100000</td>\n",
       "    </tr>\n",
       "    <tr>\n",
       "      <th>25%</th>\n",
       "      <td>5.100000</td>\n",
       "      <td>2.800000</td>\n",
       "      <td>1.600000</td>\n",
       "      <td>0.300000</td>\n",
       "    </tr>\n",
       "    <tr>\n",
       "      <th>50%</th>\n",
       "      <td>5.800000</td>\n",
       "      <td>3.000000</td>\n",
       "      <td>4.350000</td>\n",
       "      <td>1.300000</td>\n",
       "    </tr>\n",
       "    <tr>\n",
       "      <th>75%</th>\n",
       "      <td>6.400000</td>\n",
       "      <td>3.300000</td>\n",
       "      <td>5.100000</td>\n",
       "      <td>1.800000</td>\n",
       "    </tr>\n",
       "    <tr>\n",
       "      <th>max</th>\n",
       "      <td>7.900000</td>\n",
       "      <td>4.400000</td>\n",
       "      <td>6.900000</td>\n",
       "      <td>2.500000</td>\n",
       "    </tr>\n",
       "  </tbody>\n",
       "</table>\n",
       "</div>"
      ],
      "text/plain": [
       "       sepal-length  sepal-width  petal-length  petal-width\n",
       "count    150.000000   150.000000    150.000000   150.000000\n",
       "mean       5.843333     3.054000      3.758667     1.198667\n",
       "std        0.828066     0.433594      1.764420     0.763161\n",
       "min        4.300000     2.000000      1.000000     0.100000\n",
       "25%        5.100000     2.800000      1.600000     0.300000\n",
       "50%        5.800000     3.000000      4.350000     1.300000\n",
       "75%        6.400000     3.300000      5.100000     1.800000\n",
       "max        7.900000     4.400000      6.900000     2.500000"
      ]
     },
     "execution_count": 12,
     "metadata": {},
     "output_type": "execute_result"
    }
   ],
   "source": [
    "data.describe()"
   ]
  },
  {
   "cell_type": "code",
   "execution_count": 13,
   "metadata": {},
   "outputs": [
    {
     "name": "stdout",
     "output_type": "stream",
     "text": [
      "<class 'pandas.core.frame.DataFrame'>\n",
      "RangeIndex: 150 entries, 0 to 149\n",
      "Data columns (total 5 columns):\n",
      "sepal-length    150 non-null float64\n",
      "sepal-width     150 non-null float64\n",
      "petal-length    150 non-null float64\n",
      "petal-width     150 non-null float64\n",
      "class           150 non-null object\n",
      "dtypes: float64(4), object(1)\n",
      "memory usage: 5.9+ KB\n"
     ]
    }
   ],
   "source": [
    "data.info()"
   ]
  },
  {
   "cell_type": "code",
   "execution_count": 17,
   "metadata": {},
   "outputs": [
    {
     "data": {
      "text/plain": [
       "sepal-length    0\n",
       "sepal-width     0\n",
       "petal-length    0\n",
       "petal-width     0\n",
       "class           0\n",
       "dtype: int64"
      ]
     },
     "execution_count": 17,
     "metadata": {},
     "output_type": "execute_result"
    }
   ],
   "source": [
    "data.isnull().sum()"
   ]
  },
  {
   "cell_type": "code",
   "execution_count": 103,
   "metadata": {},
   "outputs": [
    {
     "data": {
      "text/plain": [
       "class\n",
       "Iris-setosa        50\n",
       "Iris-versicolor    50\n",
       "Iris-virginica     50\n",
       "dtype: int64"
      ]
     },
     "execution_count": 103,
     "metadata": {},
     "output_type": "execute_result"
    }
   ],
   "source": [
    "data.groupby('class').size()"
   ]
  },
  {
   "cell_type": "code",
   "execution_count": 45,
   "metadata": {},
   "outputs": [
    {
     "data": {
      "image/png": "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\n",
      "text/plain": [
       "<Figure size 576x360 with 1 Axes>"
      ]
     },
     "metadata": {
      "needs_background": "light"
     },
     "output_type": "display_data"
    }
   ],
   "source": [
    "data.plot(kind='box', figsize=(8,5), title=\"Box plots for each variable in iris flower dataset\")\n",
    "plt.show()"
   ]
  },
  {
   "cell_type": "markdown",
   "metadata": {},
   "source": [
    "### scaling the values so that clusters can be fromed and recognized properly\n",
    "#### * after scaling every value would range between 0-1"
   ]
  },
  {
   "cell_type": "code",
   "execution_count": 55,
   "metadata": {},
   "outputs": [],
   "source": [
    "scaler = MinMaxScaler()\n",
    "\n",
    "scaler.fit(data[['petal-length']])\n",
    "data['petal-length'] = scaler.transform(data[['petal-length']])\n",
    "\n",
    "scaler.fit(data[['petal-width']])\n",
    "data['petal-width'] = scaler.transform(data[['petal-width']])\n",
    "\n",
    "scaler.fit(data[['sepal-length']])\n",
    "data['sepal-length'] = scaler.transform(data[['sepal-length']])\n",
    "\n",
    "scaler.fit(data[['sepal-width']])\n",
    "data['sepal-width'] = scaler.transform(data[['sepal-width']])"
   ]
  },
  {
   "cell_type": "code",
   "execution_count": 56,
   "metadata": {},
   "outputs": [
    {
     "data": {
      "text/html": [
       "<div>\n",
       "<style scoped>\n",
       "    .dataframe tbody tr th:only-of-type {\n",
       "        vertical-align: middle;\n",
       "    }\n",
       "\n",
       "    .dataframe tbody tr th {\n",
       "        vertical-align: top;\n",
       "    }\n",
       "\n",
       "    .dataframe thead th {\n",
       "        text-align: right;\n",
       "    }\n",
       "</style>\n",
       "<table border=\"1\" class=\"dataframe\">\n",
       "  <thead>\n",
       "    <tr style=\"text-align: right;\">\n",
       "      <th></th>\n",
       "      <th>sepal-length</th>\n",
       "      <th>sepal-width</th>\n",
       "      <th>petal-length</th>\n",
       "      <th>petal-width</th>\n",
       "      <th>class</th>\n",
       "    </tr>\n",
       "  </thead>\n",
       "  <tbody>\n",
       "    <tr>\n",
       "      <th>0</th>\n",
       "      <td>0.222222</td>\n",
       "      <td>0.625000</td>\n",
       "      <td>0.067797</td>\n",
       "      <td>0.041667</td>\n",
       "      <td>Iris-setosa</td>\n",
       "    </tr>\n",
       "    <tr>\n",
       "      <th>1</th>\n",
       "      <td>0.166667</td>\n",
       "      <td>0.416667</td>\n",
       "      <td>0.067797</td>\n",
       "      <td>0.041667</td>\n",
       "      <td>Iris-setosa</td>\n",
       "    </tr>\n",
       "    <tr>\n",
       "      <th>2</th>\n",
       "      <td>0.111111</td>\n",
       "      <td>0.500000</td>\n",
       "      <td>0.050847</td>\n",
       "      <td>0.041667</td>\n",
       "      <td>Iris-setosa</td>\n",
       "    </tr>\n",
       "    <tr>\n",
       "      <th>3</th>\n",
       "      <td>0.083333</td>\n",
       "      <td>0.458333</td>\n",
       "      <td>0.084746</td>\n",
       "      <td>0.041667</td>\n",
       "      <td>Iris-setosa</td>\n",
       "    </tr>\n",
       "    <tr>\n",
       "      <th>4</th>\n",
       "      <td>0.194444</td>\n",
       "      <td>0.666667</td>\n",
       "      <td>0.067797</td>\n",
       "      <td>0.041667</td>\n",
       "      <td>Iris-setosa</td>\n",
       "    </tr>\n",
       "  </tbody>\n",
       "</table>\n",
       "</div>"
      ],
      "text/plain": [
       "   sepal-length  sepal-width  petal-length  petal-width        class\n",
       "0      0.222222     0.625000      0.067797     0.041667  Iris-setosa\n",
       "1      0.166667     0.416667      0.067797     0.041667  Iris-setosa\n",
       "2      0.111111     0.500000      0.050847     0.041667  Iris-setosa\n",
       "3      0.083333     0.458333      0.084746     0.041667  Iris-setosa\n",
       "4      0.194444     0.666667      0.067797     0.041667  Iris-setosa"
      ]
     },
     "execution_count": 56,
     "metadata": {},
     "output_type": "execute_result"
    }
   ],
   "source": [
    "data.head()"
   ]
  },
  {
   "cell_type": "markdown",
   "metadata": {},
   "source": [
    "###  we can see simple visualizations of scatter plots below \n",
    "### * notice that its difficult to figure out the proper number of clusters fromed "
   ]
  },
  {
   "cell_type": "code",
   "execution_count": 65,
   "metadata": {},
   "outputs": [
    {
     "data": {
      "image/png": "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\n",
      "text/plain": [
       "<Figure size 432x288 with 1 Axes>"
      ]
     },
     "metadata": {
      "needs_background": "light"
     },
     "output_type": "display_data"
    }
   ],
   "source": [
    "plt.scatter(data['petal-length'],data['petal-width'])\n",
    "plt.xlabel(\"petal - length\")\n",
    "plt.ylabel(\"petal - width\")\n",
    "plt.show()"
   ]
  },
  {
   "cell_type": "markdown",
   "metadata": {},
   "source": [
    "### notice one cluster is recognizable in the plot between petal-length and petal width\n",
    "### but no cluster is recognized in the plot between sepal length-and sepal width."
   ]
  },
  {
   "cell_type": "code",
   "execution_count": 66,
   "metadata": {},
   "outputs": [
    {
     "data": {
      "image/png": "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\n",
      "text/plain": [
       "<Figure size 432x288 with 1 Axes>"
      ]
     },
     "metadata": {
      "needs_background": "light"
     },
     "output_type": "display_data"
    }
   ],
   "source": [
    "plt.scatter(data['sepal-length'],data['sepal-width'])\n",
    "plt.xlabel(\"sepal - length\")\n",
    "plt.ylabel(\"sepal - width\")\n",
    "plt.show()"
   ]
  },
  {
   "cell_type": "markdown",
   "metadata": {},
   "source": [
    "## lets find clusters with the help of k- means clustring"
   ]
  },
  {
   "cell_type": "markdown",
   "metadata": {},
   "source": [
    "#### 1st using elbow method to find the number of clusters - (value of k)"
   ]
  },
  {
   "cell_type": "code",
   "execution_count": 76,
   "metadata": {},
   "outputs": [],
   "source": [
    "from sklearn.cluster import KMeans\n",
    "#sse=sum of square errors-cointains all the sse values from range 1-9\n",
    "sse=[]\n",
    "k_rng=range(1,10)\n",
    "for k in k_rng:\n",
    "    km=KMeans(n_clusters=k)\n",
    "    km.fit(data[[\"sepal-length\"]],data[[\"sepal-width\"]])\n",
    "    sse.append(km.inertia_)\n"
   ]
  },
  {
   "cell_type": "code",
   "execution_count": 77,
   "metadata": {},
   "outputs": [
    {
     "data": {
      "text/plain": [
       "[7.8833590534979425,\n",
       " 2.385377607722209,\n",
       " 1.2159042946079985,\n",
       " 0.6371735517568854,\n",
       " 0.4291295895462559,\n",
       " 0.2800560306202667,\n",
       " 0.20318504098431836,\n",
       " 0.1530757821434234,\n",
       " 0.11467611127878004]"
      ]
     },
     "execution_count": 77,
     "metadata": {},
     "output_type": "execute_result"
    }
   ],
   "source": [
    "sse"
   ]
  },
  {
   "cell_type": "code",
   "execution_count": 170,
   "metadata": {},
   "outputs": [
    {
     "data": {
      "image/png": "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\n",
      "text/plain": [
       "<Figure size 432x288 with 1 Axes>"
      ]
     },
     "metadata": {
      "needs_background": "light"
     },
     "output_type": "display_data"
    }
   ],
   "source": [
    "plt.xlabel(\"k-range\")\n",
    "plt.ylabel(\"sse values\")\n",
    "plt.grid()\n",
    "plt.title(\" Elbow plot \")\n",
    "plt.plot(k_rng,sse);"
   ]
  },
  {
   "cell_type": "markdown",
   "metadata": {},
   "source": [
    "#### * from above - clearly k value is 3"
   ]
  },
  {
   "cell_type": "code",
   "execution_count": 153,
   "metadata": {},
   "outputs": [
    {
     "data": {
      "text/plain": [
       "array([0, 0, 0, 0, 0, 0, 0, 0, 0, 0, 0, 0, 0, 0, 0, 0, 0, 0, 0, 0, 0, 0,\n",
       "       0, 0, 0, 0, 0, 0, 0, 0, 0, 0, 0, 0, 0, 0, 0, 0, 0, 0, 0, 2, 0, 0,\n",
       "       0, 0, 0, 0, 0, 0, 1, 1, 1, 2, 1, 2, 1, 2, 1, 2, 2, 2, 2, 2, 2, 1,\n",
       "       2, 2, 2, 2, 2, 2, 2, 2, 1, 1, 1, 1, 2, 2, 2, 2, 2, 2, 2, 1, 1, 2,\n",
       "       2, 2, 2, 2, 2, 2, 2, 2, 2, 2, 2, 2, 1, 2, 1, 1, 1, 1, 2, 1, 1, 1,\n",
       "       1, 2, 1, 2, 2, 1, 1, 1, 1, 2, 1, 2, 1, 2, 1, 1, 2, 2, 1, 1, 1, 1,\n",
       "       1, 2, 2, 1, 1, 1, 2, 1, 1, 1, 2, 1, 1, 1, 2, 1, 1, 2])"
      ]
     },
     "execution_count": 153,
     "metadata": {},
     "output_type": "execute_result"
    }
   ],
   "source": [
    "#now fitting the model\n",
    "km=KMeans(n_clusters=3)\n",
    "y_pred=km.fit_predict(data[[\"sepal-length\",\"sepal-width\"]])\n",
    "y_pred"
   ]
  },
  {
   "cell_type": "code",
   "execution_count": 154,
   "metadata": {},
   "outputs": [],
   "source": [
    "data[\"cluster\"]=y_pred"
   ]
  },
  {
   "cell_type": "markdown",
   "metadata": {},
   "source": [
    "#### cluster centroids "
   ]
  },
  {
   "cell_type": "code",
   "execution_count": 156,
   "metadata": {},
   "outputs": [
    {
     "data": {
      "text/plain": [
       "array([[0.19897959, 0.60034014],\n",
       "       [0.69562648, 0.45390071],\n",
       "       [0.40483539, 0.28009259]])"
      ]
     },
     "execution_count": 156,
     "metadata": {},
     "output_type": "execute_result"
    }
   ],
   "source": [
    "km.cluster_centers_"
   ]
  },
  {
   "cell_type": "markdown",
   "metadata": {},
   "source": [
    "### visualizing the three clusters "
   ]
  },
  {
   "cell_type": "code",
   "execution_count": 177,
   "metadata": {},
   "outputs": [
    {
     "data": {
      "image/png": "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\n",
      "text/plain": [
       "<Figure size 432x288 with 1 Axes>"
      ]
     },
     "metadata": {
      "needs_background": "light"
     },
     "output_type": "display_data"
    }
   ],
   "source": [
    "df1=data[data.cluster==0]\n",
    "df2=data[data.cluster==1]\n",
    "df3=data[data.cluster==2]\n",
    "plt.scatter(df1[\"sepal-length\"],df1[\"sepal-width\"],color='red',label='Iris-setosa')\n",
    "plt.scatter(df2[\"sepal-length\"],df2[\"sepal-width\"],color='green',label='Iris-virginica')\n",
    "plt.scatter(df3[\"sepal-length\"],df3[\"sepal-width\"],color='blue',label='Iris-versicolor')\n",
    "plt.scatter(km.cluster_centers_[:,0],km.cluster_centers_[:,1],s=200,color='k',marker='*',label='centroid')\n",
    "plt.legend(bbox_to_anchor=(1.1, 1))\n",
    "plt.xlabel(\" sepal - length \")\n",
    "plt.ylabel(\" sepal - width \")\n",
    "plt.show()\n",
    "\n"
   ]
  },
  
